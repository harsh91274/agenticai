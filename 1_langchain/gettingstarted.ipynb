{
 "cells": [
  {
   "cell_type": "code",
   "execution_count": 1,
   "metadata": {},
   "outputs": [
    {
     "data": {
      "text/plain": [
       "True"
      ]
     },
     "execution_count": 1,
     "metadata": {},
     "output_type": "execute_result"
    }
   ],
   "source": [
    "import os\n",
    "from dotenv import load_dotenv\n",
    "load_dotenv()"
   ]
  },
  {
   "cell_type": "markdown",
   "metadata": {},
   "source": [
    "Enable langchain tracing"
   ]
  },
  {
   "cell_type": "code",
   "execution_count": 2,
   "metadata": {},
   "outputs": [],
   "source": [
    "os.environ[\"OPEN_API_KEY\"]=os.getenv(\"OPENAI_API_KEY\")"
   ]
  },
  {
   "cell_type": "code",
   "execution_count": 3,
   "metadata": {},
   "outputs": [],
   "source": [
    "os.environ[\"LANGCHAIN_API_KEY\"]=os.getenv(\"LANGCHAIN_API_KEY\")\n",
    "os.environ[\"LANGCHAIN_TRACING_V2\"]=\"true\"\n",
    "os.environ[\"LANGCHAIN_PROJECT\"]=os.getenv(\"LANGCHAIN_PROJECT\")"
   ]
  },
  {
   "cell_type": "code",
   "execution_count": 6,
   "metadata": {},
   "outputs": [
    {
     "name": "stdout",
     "output_type": "stream",
     "text": [
      "client=<openai.resources.chat.completions.Completions object at 0x000001C3CA3A23C0> async_client=<openai.resources.chat.completions.AsyncCompletions object at 0x000001C3CA3A3B30> root_client=<openai.OpenAI object at 0x000001C3CA30A870> root_async_client=<openai.AsyncOpenAI object at 0x000001C3CA3A2300> model_name='o1-mini' temperature=1.0 model_kwargs={} openai_api_key=SecretStr('**********')\n"
     ]
    }
   ],
   "source": [
    "from langchain_openai import ChatOpenAI\n",
    "\n",
    "llm=ChatOpenAI(model=\"o1-mini\")\n",
    "print(llm)"
   ]
  },
  {
   "cell_type": "code",
   "execution_count": 7,
   "metadata": {},
   "outputs": [
    {
     "name": "stdout",
     "output_type": "stream",
     "text": [
      "content='**Agentic AI** refers to artificial intelligence systems designed to act as autonomous agents, making decisions and performing actions to achieve specific goals without requiring continuous human intervention. These AI agents possess a degree of independence, allowing them to perceive their environment, reason about it, and take actions that are aligned with their objectives. The concept of agentic AI blends elements from fields such as artificial intelligence, robotics, cognitive science, and philosophy to create systems that can operate proactively and adaptively in dynamic environments.\\n\\n### Key Characteristics of Agentic AI\\n\\n1. **Autonomy**: Agentic AI systems can operate independently, making decisions without direct human oversight. They can set their own goals based on predefined objectives or learned patterns.\\n\\n2. **Perception**: These AI agents can sense and interpret their environment using various sensors (e.g., cameras, microphones, LIDAR) and process this information to inform their actions.\\n\\n3. **Goal-Oriented Behavior**: Agentic AI is designed to achieve specific goals or complete particular tasks. They can prioritize actions that best contribute to these objectives.\\n\\n4. **Adaptability and Learning**: These systems can learn from their experiences and adapt their strategies over time. They employ machine learning techniques to improve performance and handle unforeseen circumstances.\\n\\n5. **Decision-Making**: Agentic AI utilizes algorithms to analyze data, predict outcomes, and make informed decisions that align with their goals.\\n\\n6. **Interaction and Communication**: They can interact with other systems, humans, and their environment, enabling coordinated efforts and collaborative problem-solving.\\n\\n### Examples and Applications\\n\\n- **Autonomous Vehicles**: Self-driving cars are quintessential examples of agentic AI. They navigate roads, make real-time decisions to avoid obstacles, and optimize routes without human input.\\n\\n- **Intelligent Virtual Assistants**: Systems like Siri, Alexa, and Google Assistant exhibit agentic behaviors by managing tasks, scheduling, and responding to user requests autonomously.\\n\\n- **Robotics**: Robots in manufacturing, healthcare, and service industries operate as agentic AI, performing tasks such as assembling products, assisting in surgeries, or providing customer service.\\n\\n- **Personalized Recommendation Systems**: Platforms like Netflix or Amazon use agentic AI to analyze user behavior and preferences, making tailored recommendations without constant human guidance.\\n\\n- **Autonomous Drones**: Used in areas like surveillance, delivery, and environmental monitoring, these drones operate independently to carry out missions efficiently.\\n\\n### Differences from Other AI Types\\n\\nWhile all AI systems exhibit some level of intelligence, agentic AI distinguishes itself through autonomy and goal-oriented action. Traditional AI applications may require substantial human input, such as rule-based systems or decision support tools, whereas agentic AI operates with a higher degree of independence. For example:\\n\\n- **Narrow AI vs. Agentic AI**: Narrow AI is designed for specific tasks (e.g., image recognition) without broader agency. In contrast, agentic AI can handle a range of related tasks autonomously to achieve broader objectives.\\n\\n- **Reactive vs. Proactive Systems**: Reactive AI responds to inputs without maintaining an internal state, whereas agentic AI not only reacts but also plans and initiates actions toward long-term goals.\\n\\n### Ethical Considerations and Challenges\\n\\nThe development and deployment of agentic AI bring several ethical and practical challenges:\\n\\n1. **Accountability**: Determining responsibility for the actions of autonomous agents can be complex, especially in scenarios where decisions lead to unintended consequences.\\n\\n2. **Bias and Fairness**: If agentic AI systems are trained on biased data, their autonomous decisions may perpetuate or exacerbate existing biases.\\n\\n3. **Transparency**: The decision-making processes of agentic AI can be opaque, making it difficult to understand how and why certain actions are taken.\\n\\n4. **Security**: Ensuring that autonomous agents are secure from malicious attacks is crucial to prevent misuse or unintended behavior.\\n\\n5. **Human-AI Interaction**: Balancing autonomy with human oversight is essential to ensure that agentic AI serves human interests without overriding them.\\n\\n6. **Existential Risks**: Highly autonomous and advanced agentic AI systems raise concerns about long-term impacts, including the potential for unintended behaviors that could be harmful.\\n\\n### Future Directions\\n\\nAgentic AI continues to evolve, with ongoing research focused on enhancing autonomy, improving learning algorithms, ensuring ethical compliance, and integrating these systems seamlessly into various aspects of society. Advances in areas like explainable AI, human-AI collaboration, and robust safety mechanisms are critical to realizing the benefits of agentic AI while mitigating associated risks.\\n\\n### Conclusion\\n\\nAgentic AI represents a significant advancement in artificial intelligence, characterized by its ability to act autonomously towards defined goals. By enabling machines to perceive, reason, and act independently, agentic AI holds the potential to revolutionize numerous industries and aspects of daily life. However, with these advancements come important ethical and practical considerations that must be carefully managed to ensure that the deployment of agentic AI aligns with societal values and human well-being.' additional_kwargs={'refusal': None} response_metadata={'token_usage': {'completion_tokens': 1272, 'prompt_tokens': 13, 'total_tokens': 1285, 'completion_tokens_details': {'accepted_prediction_tokens': 0, 'audio_tokens': 0, 'reasoning_tokens': 256, 'rejected_prediction_tokens': 0}, 'prompt_tokens_details': {'audio_tokens': 0, 'cached_tokens': 0}}, 'model_name': 'o1-mini-2024-09-12', 'system_fingerprint': 'fp_f56e40de61', 'finish_reason': 'stop', 'logprobs': None} id='run-f801d589-5882-4a81-9b67-bc3bd231cc6a-0' usage_metadata={'input_tokens': 13, 'output_tokens': 1272, 'total_tokens': 1285, 'input_token_details': {'audio': 0, 'cache_read': 0}, 'output_token_details': {'audio': 0, 'reasoning': 256}}\n"
     ]
    }
   ],
   "source": [
    "result=llm.invoke(\"What is agentic AI?\")\n",
    "print(result)"
   ]
  },
  {
   "cell_type": "code",
   "execution_count": 8,
   "metadata": {},
   "outputs": [
    {
     "name": "stdout",
     "output_type": "stream",
     "text": [
      "**Agentic AI** refers to artificial intelligence systems designed to act as autonomous agents, making decisions and performing actions to achieve specific goals without requiring continuous human intervention. These AI agents possess a degree of independence, allowing them to perceive their environment, reason about it, and take actions that are aligned with their objectives. The concept of agentic AI blends elements from fields such as artificial intelligence, robotics, cognitive science, and philosophy to create systems that can operate proactively and adaptively in dynamic environments.\n",
      "\n",
      "### Key Characteristics of Agentic AI\n",
      "\n",
      "1. **Autonomy**: Agentic AI systems can operate independently, making decisions without direct human oversight. They can set their own goals based on predefined objectives or learned patterns.\n",
      "\n",
      "2. **Perception**: These AI agents can sense and interpret their environment using various sensors (e.g., cameras, microphones, LIDAR) and process this information to inform their actions.\n",
      "\n",
      "3. **Goal-Oriented Behavior**: Agentic AI is designed to achieve specific goals or complete particular tasks. They can prioritize actions that best contribute to these objectives.\n",
      "\n",
      "4. **Adaptability and Learning**: These systems can learn from their experiences and adapt their strategies over time. They employ machine learning techniques to improve performance and handle unforeseen circumstances.\n",
      "\n",
      "5. **Decision-Making**: Agentic AI utilizes algorithms to analyze data, predict outcomes, and make informed decisions that align with their goals.\n",
      "\n",
      "6. **Interaction and Communication**: They can interact with other systems, humans, and their environment, enabling coordinated efforts and collaborative problem-solving.\n",
      "\n",
      "### Examples and Applications\n",
      "\n",
      "- **Autonomous Vehicles**: Self-driving cars are quintessential examples of agentic AI. They navigate roads, make real-time decisions to avoid obstacles, and optimize routes without human input.\n",
      "\n",
      "- **Intelligent Virtual Assistants**: Systems like Siri, Alexa, and Google Assistant exhibit agentic behaviors by managing tasks, scheduling, and responding to user requests autonomously.\n",
      "\n",
      "- **Robotics**: Robots in manufacturing, healthcare, and service industries operate as agentic AI, performing tasks such as assembling products, assisting in surgeries, or providing customer service.\n",
      "\n",
      "- **Personalized Recommendation Systems**: Platforms like Netflix or Amazon use agentic AI to analyze user behavior and preferences, making tailored recommendations without constant human guidance.\n",
      "\n",
      "- **Autonomous Drones**: Used in areas like surveillance, delivery, and environmental monitoring, these drones operate independently to carry out missions efficiently.\n",
      "\n",
      "### Differences from Other AI Types\n",
      "\n",
      "While all AI systems exhibit some level of intelligence, agentic AI distinguishes itself through autonomy and goal-oriented action. Traditional AI applications may require substantial human input, such as rule-based systems or decision support tools, whereas agentic AI operates with a higher degree of independence. For example:\n",
      "\n",
      "- **Narrow AI vs. Agentic AI**: Narrow AI is designed for specific tasks (e.g., image recognition) without broader agency. In contrast, agentic AI can handle a range of related tasks autonomously to achieve broader objectives.\n",
      "\n",
      "- **Reactive vs. Proactive Systems**: Reactive AI responds to inputs without maintaining an internal state, whereas agentic AI not only reacts but also plans and initiates actions toward long-term goals.\n",
      "\n",
      "### Ethical Considerations and Challenges\n",
      "\n",
      "The development and deployment of agentic AI bring several ethical and practical challenges:\n",
      "\n",
      "1. **Accountability**: Determining responsibility for the actions of autonomous agents can be complex, especially in scenarios where decisions lead to unintended consequences.\n",
      "\n",
      "2. **Bias and Fairness**: If agentic AI systems are trained on biased data, their autonomous decisions may perpetuate or exacerbate existing biases.\n",
      "\n",
      "3. **Transparency**: The decision-making processes of agentic AI can be opaque, making it difficult to understand how and why certain actions are taken.\n",
      "\n",
      "4. **Security**: Ensuring that autonomous agents are secure from malicious attacks is crucial to prevent misuse or unintended behavior.\n",
      "\n",
      "5. **Human-AI Interaction**: Balancing autonomy with human oversight is essential to ensure that agentic AI serves human interests without overriding them.\n",
      "\n",
      "6. **Existential Risks**: Highly autonomous and advanced agentic AI systems raise concerns about long-term impacts, including the potential for unintended behaviors that could be harmful.\n",
      "\n",
      "### Future Directions\n",
      "\n",
      "Agentic AI continues to evolve, with ongoing research focused on enhancing autonomy, improving learning algorithms, ensuring ethical compliance, and integrating these systems seamlessly into various aspects of society. Advances in areas like explainable AI, human-AI collaboration, and robust safety mechanisms are critical to realizing the benefits of agentic AI while mitigating associated risks.\n",
      "\n",
      "### Conclusion\n",
      "\n",
      "Agentic AI represents a significant advancement in artificial intelligence, characterized by its ability to act autonomously towards defined goals. By enabling machines to perceive, reason, and act independently, agentic AI holds the potential to revolutionize numerous industries and aspects of daily life. However, with these advancements come important ethical and practical considerations that must be carefully managed to ensure that the deployment of agentic AI aligns with societal values and human well-being.\n"
     ]
    }
   ],
   "source": [
    "print(result.content)"
   ]
  },
  {
   "cell_type": "code",
   "execution_count": null,
   "metadata": {},
   "outputs": [],
   "source": [
    "from langchain_core.prompts import ChatPromptTemplate\n",
    "\n",
    "prompt=ChatPromptTemplate(\n",
    "    [\n",
    "        (\"system\", \"You are an expert AI Engineer. Provide me answer based on the question\"),\n",
    "        (\"user\", \"{input}\"),\n",
    "    ]\n",
    ")"
   ]
  }
 ],
 "metadata": {
  "kernelspec": {
   "display_name": "Python 3",
   "language": "python",
   "name": "python3"
  },
  "language_info": {
   "codemirror_mode": {
    "name": "ipython",
    "version": 3
   },
   "file_extension": ".py",
   "mimetype": "text/x-python",
   "name": "python",
   "nbconvert_exporter": "python",
   "pygments_lexer": "ipython3",
   "version": "3.12.7"
  }
 },
 "nbformat": 4,
 "nbformat_minor": 2
}
